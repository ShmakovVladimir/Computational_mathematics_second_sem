{
 "cells": [
  {
   "cell_type": "markdown",
   "id": "db4ae32d",
   "metadata": {
    "id": "db4ae32d"
   },
   "source": [
    "# Численное дифференциирование и погрешности\n",
    "\n",
    "## План\n",
    "\n",
    "1. Численное дифференциирование\n",
    "2. Погрешность метода\n",
    "3. Погрешность машинного округления\n",
    "4. Погрешность данных. Шум.\n",
    "5. Задачи\n",
    "\n",
    "## 1. Численное дифференциирование\n",
    "\n",
    "### _Постановка задачи для 1-ой производной_\n",
    "\n",
    "Пусть таблично задана некоторая функция $u(x)$:\n",
    "\n",
    "$$\n",
    "\\begin{array}{|l|l|l|l|l|l|l|l|}\n",
    "\\hline u(x) & u\\left(x_0\\right) & u_1 & u_2 & \\cdots & u_j & \\cdots & u_J \\\\\n",
    "\\hline x & x_0 & x_1 & x_2 & \\cdots & x_j & \\cdots & x_J \\\\\n",
    "\\hline\n",
    "\\end{array}\n",
    "$$\n",
    "\n",
    "Как раз в такой форме задана любая функция в компьютере (массив \"иксов\" и массив \"игреков\"). Отметим, что разбиение по \"иксам\" может быть как равномерным, так и неравномерным - всё зависит от конкретной табдично заданной функции.\n",
    "\n",
    "Хотим вычислить её производную в каждой точке $x_j$. Вспомним определение из матанализа:\n",
    "\n",
    "$$u'\\left(x_j\\right)=\\lim _{\\Delta x \\rightarrow 0} \\frac{u\\left(x_j+\\Delta x\\right)-u\\left(x_j\\right)}{\\Delta x}$$\n",
    "\n",
    "Но ведь на компьютере $\\Delta x$ не может стремится к нулю, т.к. функция по сути дискретная, - придётся считать приближённо, с помощью аппроксимации производной путём использования __конечно-разностных схем__. Некоторые примеры:\n",
    "\n",
    "a) $u_j^{(1)}=\\frac{u_j-u_{j-1}}{x_j-x_{j-1}}=\\frac{u_j-u_{j-1}}{h}$\n",
    "\n",
    "b) $u_j^{(1)}=\\frac{u_{j+1}-u_j}{x_{j+1}-x_j}=\\frac{u_{j+1}-u_j}{h}$\n",
    "\n",
    "c) $u_j^{(1)}=\\frac{u_{j+1} - u_{j-1}}{x_{j+1}-x_{j-1}}=\\frac{u_{j+1}-u_{j-1}}{2 h}$\n",
    "\n",
    "Подчеркнём разницу между обозначениями $u'$ и $u^{(1)}$. $u'$ - это истинная (математическая) производная, а $u^{(1)}$ - это лишь аппроксимация (наше приблежение).\n",
    "\n",
    "### _Порядок аппроксимации_\n",
    "\n",
    "Чем же отличаются данные схемы? Оказывается, точностью. Но сначала вспомним про ряд Тейлора с остаточным членом в форме Лагранжа и Пеано:\n",
    "\n",
    "$$\n",
    "\\begin{aligned}\n",
    "&u\\left(x_j+\\Delta x\\right)=u\\left(x_j\\right)+u^{\\prime}\\left(x_j\\right) \\cdot \\Delta x+u^{\\prime \\prime}\\left(x_j\\right) \\frac{\\Delta x^2}{2 !}\n",
    "+u^{\\prime \\prime \\prime}\\left(x_j\\right) \\frac{\\Delta x^3}{3 !}+\\cdots+u^{(n)}\\left(x_i\\right) \\frac{\\Delta x^n}{n !}+\\frac{u^{(n+1)}(\\xi)}{(n+1) !} \\Delta x^{n+1}=\\sum_{k=0}^n \\frac{u^{(k)}\\left(x_j\\right)}{k !} \\Delta x^k+O\\left(\\Delta x^{n+1}\\right)\n",
    "\\end{aligned}\n",
    "$$\n",
    "\n",
    "Подставляя это разложение в наши примеры, посмотрим на их \"точность\":\n",
    "\n",
    "---\n",
    "\n",
    "a) $u_j^{(1)}=\\frac{u_j-u_{j-1}}{x_j-x_{j-1}}=\\frac{u_j-u_{j-1}}{h}$\n",
    "\n",
    "$\n",
    "u_{j-1}=u\\left(x_{j-1}\\right)=u(x_j - h)=u_j-h u_j^{\\prime}+\\frac{h^2}{2} u_j^{\\prime \\prime}-\\frac{h^3}{6} u_j^{\\prime \\prime \\prime}+O\\left(h^4\\right)\n",
    "$\n",
    "\n",
    "$u_j^{(1)}=\\frac{u_j-u_{j-1}}{h}=\\frac{u_j-(u_j-h u_j^{\\prime}+\\frac{h^2}{2} u_j^{\\prime \\prime}-\\frac{h^3}{6} u_j^{\\prime \\prime \\prime}+O\\left(h^4\\right))}{h} = u_j^{\\prime}-\\frac{h u_j^{\\prime \\prime}}{2}+\\frac{h^2}{6} u_j^{\\prime \\prime \\prime} +o(h^3) \\approx u_j^{\\prime}+O(h)$\n",
    "\n",
    "Видим, что при $h \\rightarrow 0$ наша аппроксимация стремится к истинной производной. В данном случае эта разностная схема имеет __1-ый порядок аппроксимации__, т.к. ошибка пропорциональна первой степени $h$.\n",
    "\n",
    "---\n",
    "\n",
    "b) $u_j^{(1)}=\\frac{u_{j+1}-u_j}{x_{j+1}-x_j}=\\frac{u_{j+1}-u_j}{h}$\n",
    "\n",
    "$\n",
    "u_{j+1}=u\\left(x_{j+1}\\right)=u(x_j + h)=u_j+h u_j^{\\prime}+\\frac{h^2}{2} u_j^{\\prime \\prime}+\\frac{h^3}{6} u_j^{\\prime \\prime \\prime}+O\\left(h^4\\right)\n",
    "$\n",
    "\n",
    "$u_j^{(1)}=\\frac{u_{j+1}-u_j}{h}=\\frac{(u_j+h u_j^{\\prime}+\\frac{h^2}{2} u_j^{\\prime \\prime}+\\frac{h^3}{6} u_j^{\\prime \\prime \\prime}+O\\left(h^4\\right)) - u_j}{h} = u_j^{\\prime}+\\frac{h u_j^{\\prime \\prime}}{2}+\\frac{h^2}{6} u_j^{\\prime \\prime \\prime} +O(h^3) \\approx u_j^{\\prime}+O(h)$\n",
    "\n",
    "Опять получился 1-ый порядок аппроксимации.\n",
    "\n",
    "---\n",
    "\n",
    "c) $u_j^{(1)}=\\frac{u_{j+1} - u_{j-1}}{x_{j+1}-x_{j-1}}=\\frac{u_{j+1}-u_{j-1}}{2 h}$\n",
    "\n",
    "$\n",
    "u_{j+1}=u\\left(x_{j+1}\\right)=u(x_j + h)=u_j+h u_j^{\\prime}+\\frac{h^2}{2} u_j^{\\prime \\prime}+\\frac{h^3}{6} u_j^{\\prime \\prime \\prime}+O\\left(h^4\\right)\n",
    "$\n",
    "\n",
    "$\n",
    "u_{j-1}=u\\left(x_{j-1}\\right)=u(x_j - h)=u_j-h u_j^{\\prime}+\\frac{h^2}{2} u_j^{\\prime \\prime}-\\frac{h^3}{6} u_j^{\\prime \\prime \\prime}+O\\left(h^4\\right)\n",
    "$\n",
    "\n",
    "$u_j^{(1)}=\\frac{u_{j+1}-u_{j-1}}{2h}=u_j^{\\prime}+\\frac{h^2}{6} u_j^{\\prime \\prime \\prime}+o(h^2)=u_j^{\\prime}+O(h^2)$\n",
    "\n",
    "Получился __2-ой порядок аппроксимации__ - то есть эта разностная аппроксимация на порядок точнее двух предыдущих. К примеру, без учёта констант перед $h$, если в a) и b) ошибка была бы $10^{-3}$, то в с) на том же наборе данных мы бы имели ошибку $10^{-6}$.\n",
    "\n",
    "---\n",
    "\n",
    "Итого мы поняли, что задачу приближённого нахождения производной (аппроксимации производной) можно решать с помощью конечно-разностных схем. Разные схемы могут иметь разную точность. Обобщим задачу на случай производной произвольной степени.\n",
    "\n",
    "### _Постановка задачи для k-ой производной_\n",
    "\n",
    "Пусть таблично задана некоторая функция $u(x)$:\n",
    "\n",
    "$$\n",
    "\\begin{array}{|l|l|l|l|l|l|l|l|}\n",
    "\\hline u(x) & u\\left(x_0\\right) & u_1 & u_2 & \\cdots & u_* & \\cdots & u_J \\\\\n",
    "\\hline x & x_0 & x_1 & x_2 & \\cdots & x_* & \\cdots & x_J \\\\\n",
    "\\hline\n",
    "\\end{array}\n",
    "$$\n",
    "\n",
    "Хотим приближенно найти производную $k$-го порядка в точке $x_*$. Будем искать решение в виде конечно-разностной схемы:\n",
    "\n",
    "\n",
    "$$u^{(k)}\\left(x_*\\right)=u_*^{(k)}=\\frac{\\overset{m}{\\underset{j \\,=-l}{\\sum}} \\alpha_j \\cdot u\\left(x_*+\\Delta x_j\\right)}{h^k}$$\n",
    "\n",
    "Здесь $\\alpha_j$ - некоторые числовые коэффициенты, которые определяют вид конечно-разностной схемы. Как же их найти?\n",
    "\n",
    "__Алгоритм составления разностной схемы__\n",
    "\n",
    "1. Фиксировать $l$ и $m$ исходя из п.3 ниже.\n",
    "2. Разложить $u\\left(x_*+\\Delta x_j\\right)$ в ряд Тейлора в точке $x_*$. Привести множители перед производными.\n",
    "3. Составить систему линейных уравнений на $\\alpha_j$ исходя из\n",
    "- зануления скобок перед производными порядка меньше k\n",
    "- равенства скобки единице перед искомой k-ой производной\n",
    "- занулению скобок перед некоторым количеством производных порядка выше k для увеличения точности.\n",
    "4. Решить эту систему аналитически $\\rightarrow$ найти $\\alpha_j$ $\\rightarrow$ схема задана.\n",
    "\n",
    "Если же в нашей функции нет фиксированного шага по \"искам\" $h$, то меняется лишь изначальная формула, откуда $h$ пропадает из знаменателя, и остаётся только числитель. В остальном алгоритм такой-же. Более подробно см. лекцию С1 https://vk.com/video/@club101906738?z=video-101906738_456239046%2Fclub101906738%2Fpl_-101906738_-2.\n",
    "\n",
    "Вообще, все эти задачи для различных $k, l, m$ давно решены за нас. Достаточно загуглить \"конечно-разностные схемы\".\n",
    "\n",
    "### _k-ая производная функция нескольких переменных_\n",
    "\n",
    "В целом \"дух\", алгоритм и понятие порядка аппроксимации абсолютно такие же как и в предыдущих пунктах, только теперь необходимо рассматривать различные шаги $h_1, h_2, ...$ по разным осям. Также в рядах Тейлора появятся перекрестные слагаемые. За более подробным описанием см. лекцию С1 https://vk.com/video/@club101906738?z=video-101906738_456239046%2Fclub101906738%2Fpl_-101906738_-2"
   ]
  },
  {
   "cell_type": "markdown",
   "id": "1e24cd5b",
   "metadata": {
    "id": "1e24cd5b"
   },
   "source": [
    "## 2. Погрешность метода\n",
    "\n",
    "На основе презентации Ивана Цыбулина, Ярослава Холодова.\n",
    "\n",
    "Многие методы вычислительной математики являются приближенными, то есть позволяют получить ответ с заданной точностью. Крайне важно уметь определять погрешность, обусловленную использованием приближенного метода. Такая погрешность называется **ошибкой метода**. По сути это есть разница между истинным (математическим) значением и тем, который мы получаем при вычислении.\n",
    "\n",
    "Оценим погрешность метода для некоторых конечно-разностных схем.\n",
    "\n",
    "---\n",
    "\n",
    "- Конечно-разностная схема первого порядка\n",
    "\n",
    "$$f_j^{(1)}=\\frac{f_{j+1}-f_j}{x_{j+1}-x_j}=\\frac{f_{j+1}-f_j}{h}$$\n",
    "\n",
    "Обозначим $x_j = x_0$. Тогда погрешность метода будет равна\n",
    "\n",
    "$$\n",
    "\\varepsilon_{\\text{method}}=\\left|f'(x_0) - \\frac{f(x_0 + h) - f(x_0)}{h}\\right|\n",
    "$$\n",
    "\n",
    "Воспользуемся формулой Тейлора с остаточным членом в форме Лагранжа:\n",
    "\n",
    "$$\n",
    "f(x_0 + h) = f(x_0) + f'(x_0) h + \\frac{f''(\\xi)}{2} h^2, \\;\\; \\xi \\in [x_0, x_0 + h]\\\\\n",
    "\\left|f'(x_0) - \\frac{f(x_0 + h) - f(x_0)}{h}\\right| = \\frac{|f''(\\xi)|h}{2}\n",
    "$$\n",
    "\n",
    "Пусть известно, что $|f''(\\xi)| \\leq M_2$ - верхняя оценка второй производной. Тогда ошибку (погрешность) метода можно оценить как\n",
    "\n",
    "$$\n",
    "\\varepsilon_\\text{method}=\\left|f'(x_0) - \\frac{f(x_0 + h) - f(x_0)}{h}\\right| \\leqslant  \\frac{M_2 h}{2}\n",
    "$$\n",
    "\n",
    "Итого, максимальная погрешности метода\n",
    "\n",
    "$$\\varepsilon_\\text{method} = \\frac{M_2 h}{2}$$\n",
    "\n",
    "Отсюда также видно, что данная конечно-разностная схема имеет 1-ый порядок аппроксимации.\n",
    "\n",
    "---\n",
    "\n",
    "- Конечно-разностная схема второго порядка\n",
    "\n",
    "$$\n",
    "f^{(1)}(x) = \\frac{f(x + h) - f(x - h)}{2h}.\n",
    "$$\n",
    "\n",
    "Пользуясь такими же разложениями\n",
    "\n",
    "$$\n",
    "f(x_0 \\pm h) = f(x_0) \\pm f'(x_0) h + \\frac{f''(x_0)}{2} h^2 \\pm \\frac{f'''(\\xi_{1,2})}{6} h^3,\\\\\n",
    "\\xi_1 \\in [x_0 - h, x_0], \\xi_2 \\in [x_0, x_0 + h],\n",
    "$$\n",
    "\n",
    "заключаем, что\n",
    "\n",
    "$$\n",
    "\\varepsilon_\\text{method}=\\left|f'(x_0) - \\frac{f(x_0 + h) - f(x_0 - h)}{2h}\\right| = \\frac{|f'''(\\xi_2) + f'''(\\xi_1)|h^2}{12},\\\\\n",
    "\\left|f'(x_0) - \\frac{f(x_0 + h) - f(x_0 - h)}{2h}\\right| \\leqslant  \\frac{M_3 h^2}{6}, \\qquad M_3 = \\max |f'''(\\xi)|\n",
    "$$\n",
    "\n",
    "Опять же видим, что данный метод имеет *второй порядок*, так как $\\varepsilon_\\text{method} = O(h^2)$.\n",
    "\n",
    "---\n",
    "\n",
    "- Приближённое вычисление функции\n",
    "\n",
    "Погрешность метода вводится не только для разностных схем, но вообще для любого алгоритма, выполняемого на компьютере. К примеру, расчет функции $f(x)=\\sin x$ в некоторой точке через её ряд Тейлора.\n",
    "\n",
    "Для функции $\\sin x$ ряд Тейлора в окрестности точки $x=0$ выглядит следующим образом\n",
    "$$\n",
    "\\sin x=x-\\frac{x^3}{6}+\\frac{x^5}{120}+\\cdots=\\sum_{k=0}^{\\infty}(-1)^k \\frac{x^{2 k+1}}{(2 k+1) !}\n",
    "$$\n",
    "\n",
    "Радиус сходимости у такого ряда бесконечный, так что можем им пользоваться для нахождения значения функции в любой точке. Но как суммировать бесконечный ряд на компьютере?\n",
    "\n",
    "Естественно, никак нельзя. Придётся ограничиться несколькими членами этого ряда, а остаток и будет погрешностью метода в данном случае.\n",
    "\n",
    "$$\\sin x=\\underbrace{\\sum_{k=0}^n(-1)^k \\frac{x^{2 k+1}}{(2 k+1) !}}_{S_n}+\\frac{x^{2 n+2}}{(2 n+2) !} \\sin ^{(2 n+2)} \\xi, \\quad \\xi \\in[0, x]$$\n",
    "\n",
    "Как раз $S_n$ мы и вычисляем в нашей программе. Погрешность от истинного же значения будет\n",
    "\n",
    "$$\\varepsilon_{\\text {method }} \\equiv\\left|\\frac{x^{2 n+2}}{(2 n+2) !} \\sin ^{(2 n+2)} \\xi\\right| \\leqslant \\frac{x^{2 n+2}}{(2 n+2) !} M_{2 n+2}$$\n",
    "\n",
    "Так как все производные функции $\\sin x$ ограничены по модулю единицей, $M_{2 n+2}=1$ и\n",
    "\n",
    "$$\n",
    "\\varepsilon_{\\text {method}}=\\frac{x^{2 n+2}}{(2 n+2) !}\n",
    "$$\n",
    "\n",
    "При стремлении $n \\rightarrow \\infty$ ошибка метода начиная с $n=n_0>x / 2$ монотонно стремится к нулю благодаря факторилу в знаменателе."
   ]
  },
  {
   "cell_type": "markdown",
   "id": "5906afde",
   "metadata": {
    "id": "5906afde"
   },
   "source": [
    "## 3. Погрешность машинного округления\n",
    "\n",
    "### Представление чисел в памяти компьютера\n",
    "\n",
    "Действительные числа в машинном представлении приходится округлять до $K$ цифр после запятой. При этом число $x$, имеющее машинное представление $X$, находится где-то в диапазоне\n",
    "$$\n",
    "x \\in \\left[X - \\Delta X, X + \\Delta X\\right]\n",
    "$$\n",
    "\n",
    "Величина $\\Delta X$ назвается **абсолютной погрешностью** представления $x$.\n",
    "\n",
    "**Относительная погрешность** представления чисел в арифметике с плавающей точкой зависит от количества используемых цифр $K$, но не от самого числа $x$:\n",
    "\n",
    "$$\n",
    "\\frac{\\Delta X}{|X|} \\leqslant \\delta = 2^{-(K+1)}\n",
    "$$\n",
    "\n",
    "Стоит отметить, что двойка здесь потому, что числа в компьютере хранятся именно в двоичной системе счисления.\n",
    "\n",
    "Стандартом IEEE 754 определяются несколько форматов представления чисел в компьютере. Самыми распространенными являются\n",
    " * одинарная точность, single precision (`float` в C). Имеет $K = 23$ и обеспечивает относительную точность $\\delta = 2^{-24} \\approx 5.96 \\cdot 10^{-8}$\n",
    " * двойная точность, double precision (`double` в C). Имеет $K = 52$ и обеспечивает относительную точность $\\delta = 2^{-53} \\approx 1.11 \\cdot 10^{-16}$\n",
    "\n",
    "Таким образом, погрешность округления произвольного числа $A$ в компьютере можно определить, зная его тип (float или double), из которого мы получаем $\\delta$. Тогда погрешность округления будет $\\varepsilon_\\text{round} = \\delta \\cdot A$.\n",
    "\n",
    "### Накопление ошибок округления\n",
    "Cуммируя величину $\\displaystyle S_n = \\sum_{k=0}^{n-1} a_n$\n",
    "в машинной арифметике, мы на самом деле суммируем *округленные* величины. Каждое слагаемое $a_n$ представлено с абсолютной погрешностью $\\Delta a_n \\leqslant |a_n| \\cdot \\delta$, где $\\delta$ — относительная ошибка округления.\n",
    "\n",
    "Так как при суммировании чисел их абсолюная погрешность суммируется, при вычислении $S_n$ накопится ошибка\n",
    "$$\n",
    "\\Delta S_n \\leqslant \\varepsilon_\\text{round} = \\sum_{k=0}^{n-1} |a_n| \\cdot \\delta = \\delta \\cdot \\sum_{k=0}^{n-1} |a_n|.\n",
    "$$\n",
    "\n",
    "### Таблица погрешностей операций\n",
    "Погрешности округления для основных операций выглядят следующим образом (Здесь $\\varepsilon_\\text{round}=\\Delta$)\n",
    "\n",
    "$\\Delta(a \\pm  b)=\\Delta a+\\Delta b$\n",
    "\n",
    "$\\Delta\\left(a^m\\right)=m \\cdot a^{m-1} \\Delta a$\n",
    "\n",
    "$\\Delta(a \\cdot b)=a \\cdot b[\\delta(a)+\\delta(b)]=b \\Delta a+a \\Delta b$\n",
    "\n",
    "$\\Delta(a / b)=\\frac{a}{b}[\\delta(a)+\\delta(b)]=\\frac{b \\Delta a+a \\Delta b}{b^2}$\n",
    "\n",
    "Источник: \"Е.Г. Агапова - Вычислительная математика\"\n",
    "\n",
    "### Пример - погрешность округлений конечно-разностной схемы\n",
    "\n",
    "Вспомним, что функция $f(x)$ вычисляется с погрешностью $\\Delta f$. При вычислении\n",
    "$$f^{(1)}(x_0) \\approx \\frac{f(x_0 + h) - f(x_0)}{h}$$\n",
    "из-за приближенных значений $f(x_0 + h)$, $f(x_0)$ и $h$ появляется ошибка округления\n",
    "\n",
    "\n",
    "$$\n",
    "\\varepsilon_\\text{round} = \\frac{ 2 h \\Delta f + (f(x_0 + h) - f(x_0)) \\Delta h}{h^2} \\approx \\frac{2\\Delta f}{h}\n",
    "$$\n",
    "соответственно. Эта ошибка при уменьшении $h$ *растет* как $O(h^{-1})$.\n",
    "\n",
    "Отсюда понимаем, что не имеет смысла уменьшать $h$ до нуля, т.к. это лишь приведёт к увеличению ошибки округления, которая может \"съесть\" весь выйгрыш от уменьшения ошибки метода. Отсюда следует существование некоторого оптимального шага, при котором суммарная погрешность минимизируется.\n",
    "\n",
    "### Оптимальный шаг дифференцирования\n",
    "\n",
    "При дифференцировании функции имеются два основных источника погрешности\n",
    " * Ошибка метода — уменьшается при уменьшении $h$\n",
    " * Ошибка вычислений — растет при уменьшении $h$\n",
    "\n",
    "Поскольку характер роста ошибок различный, существует некоторое значение $h^*$, при котором ошибка минимальна. Рассмотим __полную ошибку__\n",
    "\n",
    "$$\n",
    "\\varepsilon_\\text{total} = \\varepsilon_\\text{method} + \\varepsilon_\\text{round}\n",
    "$$\n",
    "\n",
    "как функцию от $h$ и найдем минимум.\n",
    "\n",
    "---\n",
    "\n",
    "- Разностная схема первого порядка аппроксимации\n",
    "\n",
    "Продифферецируем полную ошибку\n",
    "\n",
    "$$\n",
    "\\varepsilon_{\\text{total}}(h) = \\frac{M_2h}{2} + \\frac{2\\Delta f}{h}\\\\\n",
    "$$\n",
    "\n",
    "по $h$:\n",
    "\n",
    "$$\n",
    "0 = \\varepsilon_\\text{total}'(h^*) = \\frac{M_2}{2} - \\frac{2\\Delta f}{{h^*}^2}\\\\h^* = 2\\sqrt\\frac{\\Delta f}{M_2}\n",
    "$$\n",
    "\n",
    "Для функции $f(x) = \\sin x$ оценки производных $M_2 = M_3 = 1$. Также примем $\\Delta f = 10^{-16}$ - аля работаем с типом double и $sin x$ можно максимально оценить единицей. Тогда\n",
    "\n",
    "$$\n",
    "h^* = 2 \\cdot 10^{-8}, \\qquad \\varepsilon_{\\text{total}}^* = 2\\cdot 10^{-8}\n",
    "$$\n",
    "\n",
    "---\n",
    "\n",
    "- Разностная схема второго порядка аппроксимации\n",
    "\n",
    "Проделав то же самое для формулы дифференцирования второго порядка, получаем\n",
    "\n",
    "$$\n",
    "\\varepsilon_{\\text{total}}(h) = \\frac{M_3h^2}{6} + \\frac{2\\Delta f}{2h}\\\\\n",
    "$$\n",
    "\n",
    "по $h$:\n",
    "\n",
    "$$\n",
    "0 = \\varepsilon_\\text{total}'(h^*) = \\frac{M_3h^*}{3} - \\frac{\\Delta f}{{h^*}^2}\\\\h^* = \\sqrt[3]\\frac{3\\Delta f}{M_3}\n",
    "$$\n",
    "\n",
    "При тех же значениях $M_2, M_3$ и $\\Delta f$ получаем\n",
    "\n",
    "$$\n",
    "h^* \\approx 6.69 \\cdot 10^{-6}, \\qquad \\varepsilon_{\\text{total}}^* \\approx 2.24\\cdot 10^{-11}\n",
    "$$\n",
    "\n",
    "Т.е. оптимально брать меньший шаг и при этом будем получать меньшую погрешность!"
   ]
  },
  {
   "cell_type": "code",
   "execution_count": null,
   "id": "2765fbc3",
   "metadata": {
    "id": "2765fbc3",
    "outputId": "8f189b64-03d8-40c9-d5e3-dd0c49f21013"
   },
   "outputs": [
    {
     "data": {
      "image/png": "[encoded data removed]",
      "text/plain": [
       "<Figure size 720x504 with 1 Axes>"
      ]
     },
     "metadata": {
      "needs_background": "light"
     },
     "output_type": "display_data"
    }
   ],
   "source": [
    "import numpy as np\n",
    "import matplotlib.pyplot as plt\n",
    "\n",
    "def diff1(f, x0, h):\n",
    "    return (f(x0 + h) - f(x0)) / h\n",
    "\n",
    "def diff2(f, x0, h):\n",
    "    return (f(x0 + h) - f(x0 - h)) / (2 * h)\n",
    "\n",
    "hs = np.logspace(-16, 0, num=50) # h = 1e-16 ... 1\n",
    "errs1 = []\n",
    "errs2 = []\n",
    "\n",
    "for h in hs:\n",
    "    errs1.append(abs(diff1(np.sin, 1, h) - np.cos(1)))\n",
    "    errs2.append(abs(diff2(np.sin, 1, h) - np.cos(1)))\n",
    "\n",
    "M2 = M3 = 1\n",
    "plt.figure(figsize=(10, 7))\n",
    "plt.loglog(hs, errs1, 'k.', ms=16)\n",
    "plt.loglog(hs, errs2, 'r.', ms=16)\n",
    "plt.loglog(hs, M2 * hs / 2, 'k-', label='First order', lw=3)\n",
    "plt.loglog(hs, M3 * hs**2 / 6, 'r-', label='Second order', lw=3)\n",
    "plt.ylim(1e-14, 1)\n",
    "plt.xlabel('$h$')\n",
    "plt.ylabel('$\\\\varepsilon$')\n",
    "plt.legend(loc='upper center')\n",
    "plt.show()"
   ]
  },
  {
   "cell_type": "markdown",
   "id": "f317ed05",
   "metadata": {
    "id": "f317ed05"
   },
   "source": [
    "## 4. Погрешность данных. Шум.\n",
    "\n",
    "Как мы знаем, данные, которые нам необходимо обрабатывать, также имеют свои погрешности помимо округления в памяти компьютера. К примеру, пусть у нас есть функция\n",
    "\n",
    "$$\n",
    "f(x) = sin(x)*cos(x) + 0.25*x + \\epsilon\n",
    "$$\n",
    "\n",
    "где $\\epsilon \\sim \\mathcal{N}(0, 0.005)$"
   ]
  },
  {
   "cell_type": "code",
   "execution_count": null,
   "id": "787cde7c",
   "metadata": {
    "id": "787cde7c",
    "outputId": "b829467c-ed55-4ee1-fc34-2a8b8acaf122"
   },
   "outputs": [
    {
     "data": {
      "text/plain": [
       "<matplotlib.collections.PathCollection at 0x184a11808b0>"
      ]
     },
     "execution_count": 2,
     "metadata": {},
     "output_type": "execute_result"
    },
    {
     "data": {
      "image/png": "[encoded data removed]",
      "text/plain": [
       "<Figure size 432x288 with 1 Axes>"
      ]
     },
     "metadata": {
      "needs_background": "light"
     },
     "output_type": "display_data"
    }
   ],
   "source": [
    "x = np.linspace(0, 5, 1000).reshape((-1, 1))\n",
    "noise = np.random.normal(0, 0.005, size=x.shape)\n",
    "y = np.sin(x)*np.cos(x) + 0.25*x + noise\n",
    "\n",
    "plt.scatter(x, y, c = 'b', s= 0.8)\n",
    "#plt.plot(x, y - noise, c = 'r', linewidth= 4)"
   ]
  },
  {
   "cell_type": "markdown",
   "id": "1cd234fd",
   "metadata": {
    "id": "1cd234fd"
   },
   "source": [
    "Пусть хотим посчитать её производную численно в каждой точке. Применим рассказанную выше теорию и воспользуемся разностной схемой второго порядка точности на всех \"внутренних\" точках, и первого порядка на \"крайних\" и сравним с \"истинной производной\"\n",
    "\n",
    "$$\n",
    "f(x) = -sin^2(x) + cos^2(x) + 0.25\n",
    "$$"
   ]
  },
  {
   "cell_type": "code",
   "execution_count": null,
   "id": "6c848293",
   "metadata": {
    "id": "6c848293",
    "outputId": "4c4c9417-9d15-4b2d-c813-9db0e95d5f49"
   },
   "outputs": [
    {
     "data": {
      "text/plain": [
       "0.005005005005005005"
      ]
     },
     "execution_count": 3,
     "metadata": {},
     "output_type": "execute_result"
    }
   ],
   "source": [
    "h = x[1, 0] - x[0, 0]\n",
    "h"
   ]
  },
  {
   "cell_type": "code",
   "execution_count": null,
   "id": "610b1af9",
   "metadata": {
    "id": "610b1af9",
    "outputId": "9faf209c-5b42-4c8d-dcee-bf6c929331cc"
   },
   "outputs": [
    {
     "data": {
      "text/plain": [
       "<matplotlib.collections.PathCollection at 0x184a12d5f00>"
      ]
     },
     "execution_count": 4,
     "metadata": {},
     "output_type": "execute_result"
    },
    {
     "data": {
      "image/png": "[encoded data removed]",
      "text/plain": [
       "<Figure size 432x288 with 1 Axes>"
      ]
     },
     "metadata": {
      "needs_background": "light"
     },
     "output_type": "display_data"
    }
   ],
   "source": [
    "def diff2(y, h):\n",
    "\n",
    "    y_diff = np.copy(y)\n",
    "\n",
    "    y_diff[1:-1, 0] = (y[2:, 0] - y[:-2, 0])/2/h\n",
    "    y_diff[0, 0] = (y[1, 0] - y[0, 0])/h\n",
    "    y_diff[-1, 0] = (y[-1, 0] - y[-2, 0])/h\n",
    "\n",
    "    return y_diff\n",
    "\n",
    "y_diff_true = -np.sin(x)**2 + np.cos(x)**2 + 0.25\n",
    "\n",
    "plt.plot(x, y_diff_true, linewidth= 4, c=\"r\")\n",
    "plt.scatter(x, diff2(y, h), c = 'b')\n",
    "#plt.plot(x, y_diff)"
   ]
  },
  {
   "cell_type": "markdown",
   "id": "6e4cc612",
   "metadata": {
    "id": "6e4cc612"
   },
   "source": [
    "Не очень как-то. Результат был бы ещё хуже, если бы мы воспользовались конечной разностью первого порядка везде, а не только на крайних точках."
   ]
  },
  {
   "cell_type": "code",
   "execution_count": null,
   "id": "9c1a00d0",
   "metadata": {
    "id": "9c1a00d0",
    "outputId": "6c3c9beb-58f7-4070-f593-2e0197ecf239"
   },
   "outputs": [
    {
     "data": {
      "text/plain": [
       "<matplotlib.collections.PathCollection at 0x1848ebc8d00>"
      ]
     },
     "execution_count": 5,
     "metadata": {},
     "output_type": "execute_result"
    },
    {
     "data": {
      "image/png": "[encoded data removed]",
      "text/plain": [
       "<Figure size 432x288 with 1 Axes>"
      ]
     },
     "metadata": {
      "needs_background": "light"
     },
     "output_type": "display_data"
    }
   ],
   "source": [
    "def diff1(y, h):\n",
    "    y_diff = np.copy(y)\n",
    "\n",
    "    y_diff[:-1, 0] = (y[1:, 0] - y[0:-1, 0])/h\n",
    "    y_diff[-1, 0] = (y[-1, 0] - y[-2, 0])/h\n",
    "\n",
    "    return y_diff\n",
    "\n",
    "plt.plot(x, y_diff_true, linewidth= 4)\n",
    "plt.scatter(x, diff1(y, h), c = 'b', s= 0.8)"
   ]
  },
  {
   "cell_type": "markdown",
   "id": "8db7f64c",
   "metadata": {
    "id": "8db7f64c"
   },
   "source": [
    "Видим, что даже казалось бы ничтожная погрешность изначальных данных приводит к катастрофическому изменению численно определённой производной.\n",
    "\n",
    "Как быть??\n",
    "\n",
    "Ответ - фитить изначальные данные, чтобы избавиться от шума. Например, линейной регрессией, если точек не очень много. В духе прошлого семинара, будем фитить многочленами."
   ]
  },
  {
   "cell_type": "code",
   "execution_count": null,
   "id": "43f29701",
   "metadata": {
    "id": "43f29701",
    "outputId": "feb866d7-a794-4309-bd1b-d8459563485e"
   },
   "outputs": [
    {
     "data": {
      "text/plain": [
       "11"
      ]
     },
     "execution_count": 6,
     "metadata": {},
     "output_type": "execute_result"
    }
   ],
   "source": [
    "k = 10\n",
    "\n",
    "# Составляем матрицу объекты-признаки\n",
    "X = x**([i for i in range(k+1)])\n",
    "np.linalg.matrix_rank(X)"
   ]
  },
  {
   "cell_type": "code",
   "execution_count": null,
   "id": "3f7aea84",
   "metadata": {
    "id": "3f7aea84",
    "outputId": "39748974-19f2-4719-bc0a-96710c7e8893"
   },
   "outputs": [
    {
     "data": {
      "image/png": "[encoded data removed]",
      "text/plain": [
       "<Figure size 1080x576 with 2 Axes>"
      ]
     },
     "metadata": {
      "needs_background": "light"
     },
     "output_type": "display_data"
    }
   ],
   "source": [
    "# C помощью sklearn решаем задачу линейной регрессии - он это сделает гораздо точнее и быстрее, чем мы с помощью numpy\n",
    "\n",
    "from sklearn import linear_model as lm\n",
    "\n",
    "lin_reg = lm.LinearRegression(fit_intercept=False)\n",
    "lin_reg.fit(X, y) # Подаём на вход матрицу объекты-признаки а не иксы!11!!11!!1!\n",
    "\n",
    "y_predicted = lin_reg.predict(x**([i for i in range(k+1)])) # Не забываем, что для предсказания модели нужны все признаки в\n",
    "                                                            # матрицы объекты-признаки. Написал здесь её явный расчет, чтобы\n",
    "                                                            # было видно, что можем заменить иксы\n",
    "\n",
    "#Смотрим теперь на производную\n",
    "\n",
    "fig, ax = plt.subplots(1, 2, figsize=(15, 8))\n",
    "\n",
    "ax[0].plot(x, y, linewidth= 3, c = 'r', label= \"истина\")\n",
    "ax[0].scatter(x, y_predicted, c = 'b', s= 50, label= \"численно на отфиченных данных\")\n",
    "ax[0].legend()\n",
    "ax[0].title.set_text('Изначальная функция')\n",
    "\n",
    "ax[1].plot(x, y_diff_true, linewidth= 2, c = 'r', label= \"истина\")\n",
    "ax[1].scatter(x, diff2(y_predicted, h), c = 'b', s= 0.8, label= \"численно на отфиченных данных\")\n",
    "ax[1].scatter(x, diff2(y, h), c = 'g', s= 0.8, label= \"численно на сырых данных\")\n",
    "ax[1].legend()\n",
    "ax[1].title.set_text('Производная функции')\n",
    "\n",
    "plt.show()"
   ]
  },
  {
   "cell_type": "markdown",
   "id": "5fd631e9",
   "metadata": {
    "id": "5fd631e9"
   },
   "source": [
    "Отлично! Смогли избавиться от шума и хорошо численно посчитать производную!\n",
    "\n",
    "Возникает вопрос, какой порядок выбрать?\n",
    "\n",
    "Слишком маленький порядок не может хорошо приблизить данные, а слишком большой приближает данные вместе с шумом. В машинном обучении эта проблема называется компромиссом между сдвигом и дисперсией (bias-variance tradeoff). Переход между данной границей хорошо заметен на графике loss в зависимости от степени многочлена.\n",
    "\n",
    "loss считаем на изначальных данных (на выборке test зашумленных данных, как в жизни) и на производной (на всей выборке, относительно значений без шума). Проверим, что наилучший фит изначальной функции приводит к тому, что численно посчитанная производная отфиченных данных будет наилучшей аппроксимацией истинной производной."
   ]
  },
  {
   "cell_type": "code",
   "execution_count": null,
   "id": "33f09ce0",
   "metadata": {
    "id": "33f09ce0",
    "outputId": "96a8fca7-5b79-45e0-dc9f-c7122f7971fe"
   },
   "outputs": [
    {
     "data": {
      "image/png": "[encoded data removed]",
      "text/plain": [
       "<Figure size 720x360 with 2 Axes>"
      ]
     },
     "metadata": {
      "needs_background": "light"
     },
     "output_type": "display_data"
    },
    {
     "name": "stdout",
     "output_type": "stream",
     "text": [
      "Видим, что нет особого смысла выбирать k>10, т.к. ошибка меняется незначительно.\n"
     ]
    }
   ],
   "source": [
    "from sklearn import metrics # лень опять реализовывать MSE Loss. Возьмём его отсюда.\n",
    "from sklearn import model_selection as ms\n",
    "\n",
    "x_train, x_test, y_train, y_test = ms.train_test_split(x, y, test_size=0.2) # Разбиваем выборку\n",
    "\n",
    "\n",
    "\n",
    "def make_model(k, x_train, y_train):\n",
    "\n",
    "    in_reg = lm.LinearRegression(fit_intercept=False)\n",
    "    lin_reg.fit(x_train**([i for i in range(k+1)]), y_train) # Обучаем на трэйне\n",
    "\n",
    "    return lin_reg\n",
    "\n",
    "\n",
    "ks = [k for k in range(30)]\n",
    "losses_func = []\n",
    "losses_diff = []\n",
    "\n",
    "\n",
    "for k in ks:\n",
    "\n",
    "    model = make_model(k, x_train, y_train)\n",
    "\n",
    "    y_test_predicted = model.predict(x_test**([i for i in range(k+1)]))\n",
    "    losses_func.append(metrics.mean_squared_error(y_test, y_test_predicted))\n",
    "\n",
    "    y_all_predicted = model.predict(x**([i for i in range(k+1)]))\n",
    "    losses_diff.append(metrics.mean_squared_error(y_diff_true, diff2(y_all_predicted, h)))\n",
    "\n",
    "\n",
    "\n",
    "fig, ax = plt.subplots(1, 2, figsize=(10, 5))\n",
    "ax[0].semilogy(ks, losses_func, linewidth= 3, c = 'r')\n",
    "ax[0].title.set_text('MSE аппроксимации функции от k')\n",
    "\n",
    "ax[1].semilogy(ks, losses_diff, linewidth= 2, c = 'b')\n",
    "ax[1].title.set_text('MSE аппроксимации производной от k')\n",
    "\n",
    "plt.show()\n",
    "\n",
    "print(\"Видим, что нет особого смысла выбирать k>10, т.к. ошибка меняется незначительно.\")"
   ]
  },
  {
   "cell_type": "markdown",
   "id": "7db0980a",
   "metadata": {
    "id": "7db0980a"
   },
   "source": [
    "Таким образом, мы научились фильтровать шум в данных, чтобы свести к минимуму случайную погрешность данных.\n",
    "\n",
    "Отдельно отметим, что второй график \"в реальности\" не получить, т.к. нам просто не будет известно аналитическая форма производной. Так что ориентируемся всё равно по первому графику"
   ]
  },
  {
   "cell_type": "markdown",
   "id": "65141c66",
   "metadata": {
    "id": "65141c66"
   },
   "source": [
    "## Примеры\n",
    "\n",
    "1. Полагая, что написанные числа верны только до последней значащей цифры, найти приближенные значения следующих величин:\n",
    "\n",
    "a) $0,53784 \\cdot 42,46578$;\n",
    "\n",
    "б) $0,234+4,3758+15,372 \\cdot 0,3762$;\n"
   ]
  },
  {
   "cell_type": "markdown",
   "id": "8548f7c6",
   "metadata": {
    "id": "8548f7c6"
   },
   "source": [
    "2. Найдите погрешность метода и неустранимую погрешность при вычислениях по этой формуле. Найдите оптимальный шаг численного дифференцирования и минимально возможную ошибку.\n",
    "\n",
    "\n",
    "$$\n",
    "f^{(2)}(x)=\\frac{f(x+h)-2 f(x)+f(x-h)}{h^2}\n",
    "$$"
   ]
  },
  {
   "cell_type": "code",
   "execution_count": null,
   "id": "45f16e6a",
   "metadata": {
    "id": "45f16e6a",
    "outputId": "352eb6e7-33d5-4b99-9d60-7b7fd6c41bfb"
   },
   "outputs": [
    {
     "data": {
      "text/latex": [
       "$\\displaystyle f{\\left(x \\right)}$"
      ],
      "text/plain": [
       "f(x)"
      ]
     },
     "execution_count": 9,
     "metadata": {},
     "output_type": "execute_result"
    }
   ],
   "source": [
    "# Будем работать в библиотеке аналитических вычислений sympy\n",
    "#!pip install sympy\n",
    "import sympy as smp\n",
    "\n",
    "x = smp.symbols('x')\n",
    "f = smp.symbols('f', cls = smp.Function)(x)\n",
    "\n",
    "f"
   ]
  },
  {
   "cell_type": "code",
   "execution_count": null,
   "id": "c05313b4",
   "metadata": {
    "id": "c05313b4",
    "outputId": "b8cf6a1e-a1bc-4584-fba2-c46fc6d92953"
   },
   "outputs": [
    {
     "data": {
      "text/latex": [
       "$\\displaystyle f{\\left(0 \\right)} + x \\left. \\frac{d}{d \\xi} f{\\left(\\xi \\right)} \\right|_{\\substack{ \\xi=0 }} + \\frac{x^{2} \\left. \\frac{d^{2}}{d \\xi^{2}} f{\\left(\\xi \\right)} \\right|_{\\substack{ \\xi=0 }}}{2} + \\frac{x^{3} \\left. \\frac{d^{3}}{d \\xi^{3}} f{\\left(\\xi \\right)} \\right|_{\\substack{ \\xi=0 }}}{6} + \\frac{x^{4} \\left. \\frac{d^{4}}{d \\xi^{4}} f{\\left(\\xi \\right)} \\right|_{\\substack{ \\xi=0 }}}{24} + O\\left(x^{5}\\right)$"
      ],
      "text/plain": [
       "f(0) + x*Subs(Derivative(f(xi), xi), xi, 0) + x**2*Subs(Derivative(f(xi), (xi, 2)), xi, 0)/2 + x**3*Subs(Derivative(f(xi), (xi, 3)), xi, 0)/6 + x**4*Subs(Derivative(f(xi), (xi, 4)), xi, 0)/24 + O(x**5)"
      ]
     },
     "execution_count": 10,
     "metadata": {},
     "output_type": "execute_result"
    }
   ],
   "source": [
    "f.series(x, 0, 5)"
   ]
  },
  {
   "cell_type": "code",
   "execution_count": null,
   "id": "d2a3d209",
   "metadata": {
    "id": "d2a3d209",
    "outputId": "cfd67e29-a81c-4a6c-dff6-68d0e4793db7"
   },
   "outputs": [
    {
     "data": {
      "text/latex": [
       "$\\displaystyle f{\\left(x \\right)} + h \\left. \\frac{d}{d \\xi_{1}} f{\\left(\\xi_{1} \\right)} \\right|_{\\substack{ \\xi_{1}=x }} + \\frac{h^{2} \\left. \\frac{d^{2}}{d \\xi_{1}^{2}} f{\\left(\\xi_{1} \\right)} \\right|_{\\substack{ \\xi_{1}=x }}}{2} + \\frac{h^{3} \\left. \\frac{d^{3}}{d \\xi_{1}^{3}} f{\\left(\\xi_{1} \\right)} \\right|_{\\substack{ \\xi_{1}=x }}}{6} + \\frac{h^{4} \\left. \\frac{d^{4}}{d \\xi_{1}^{4}} f{\\left(\\xi_{1} \\right)} \\right|_{\\substack{ \\xi_{1}=x }}}{24} + O\\left(h^{5}\\right)$"
      ],
      "text/plain": [
       "f(x) + h*Subs(Derivative(f(_xi_1), _xi_1), _xi_1, x) + h**2*Subs(Derivative(f(_xi_1), (_xi_1, 2)), _xi_1, x)/2 + h**3*Subs(Derivative(f(_xi_1), (_xi_1, 3)), _xi_1, x)/6 + h**4*Subs(Derivative(f(_xi_1), (_xi_1, 4)), _xi_1, x)/24 + O(h**5)"
      ]
     },
     "execution_count": 11,
     "metadata": {},
     "output_type": "execute_result"
    }
   ],
   "source": [
    "h = smp.symbols('h')\n",
    "\n",
    "f_plus_h = smp.symbols('f', cls = smp.Function)(x+h)\n",
    "\n",
    "f_plus_h.series(h, 0, 5)"
   ]
  },
  {
   "cell_type": "code",
   "execution_count": null,
   "id": "e7b82d2f",
   "metadata": {
    "id": "e7b82d2f",
    "outputId": "b3e0fe01-4538-49ab-ca50-4705f37625c3"
   },
   "outputs": [
    {
     "data": {
      "text/latex": [
       "$\\displaystyle f{\\left(x \\right)} - h \\left. \\frac{d}{d \\xi_{1}} f{\\left(\\xi_{1} \\right)} \\right|_{\\substack{ \\xi_{1}=x }} + \\frac{h^{2} \\left. \\frac{d^{2}}{d \\xi_{1}^{2}} f{\\left(\\xi_{1} \\right)} \\right|_{\\substack{ \\xi_{1}=x }}}{2} - \\frac{h^{3} \\left. \\frac{d^{3}}{d \\xi_{1}^{3}} f{\\left(\\xi_{1} \\right)} \\right|_{\\substack{ \\xi_{1}=x }}}{6} + \\frac{h^{4} \\left. \\frac{d^{4}}{d \\xi_{1}^{4}} f{\\left(\\xi_{1} \\right)} \\right|_{\\substack{ \\xi_{1}=x }}}{24} + O\\left(h^{5}\\right)$"
      ],
      "text/plain": [
       "f(x) - h*Subs(Derivative(f(_xi_1), _xi_1), _xi_1, x) + h**2*Subs(Derivative(f(_xi_1), (_xi_1, 2)), _xi_1, x)/2 - h**3*Subs(Derivative(f(_xi_1), (_xi_1, 3)), _xi_1, x)/6 + h**4*Subs(Derivative(f(_xi_1), (_xi_1, 4)), _xi_1, x)/24 + O(h**5)"
      ]
     },
     "execution_count": 12,
     "metadata": {},
     "output_type": "execute_result"
    }
   ],
   "source": [
    "f_minus_h = smp.symbols('f', cls = smp.Function)(x-h)\n",
    "\n",
    "f_minus_h.series(h, 0, 5)"
   ]
  },
  {
   "cell_type": "code",
   "execution_count": null,
   "id": "f9cd3bb8",
   "metadata": {
    "id": "f9cd3bb8",
    "outputId": "5742f737-f3cd-4332-bbd0-7bb17f2f3f24"
   },
   "outputs": [
    {
     "data": {
      "text/latex": [
       "$\\displaystyle h^{2} \\left. \\frac{d^{2}}{d \\xi_{1}^{2}} f{\\left(\\xi_{1} \\right)} \\right|_{\\substack{ \\xi_{1}=x }} + \\frac{h^{4} \\left. \\frac{d^{4}}{d \\xi_{1}^{4}} f{\\left(\\xi_{1} \\right)} \\right|_{\\substack{ \\xi_{1}=x }}}{12} + O\\left(h^{5}\\right)$"
      ],
      "text/plain": [
       "h**2*Subs(Derivative(f(_xi_1), (_xi_1, 2)), _xi_1, x) + h**4*Subs(Derivative(f(_xi_1), (_xi_1, 4)), _xi_1, x)/12 + O(h**5)"
      ]
     },
     "execution_count": 13,
     "metadata": {},
     "output_type": "execute_result"
    }
   ],
   "source": [
    "chislitel = f_plus_h.series(h, 0, 5) - 2*f + f_minus_h.series(h, 0, 5)\n",
    "chislitel"
   ]
  },
  {
   "cell_type": "code",
   "execution_count": null,
   "id": "3af95194",
   "metadata": {
    "id": "3af95194",
    "outputId": "57d61cb2-c8fe-48a4-90c7-38bdcb1df57c"
   },
   "outputs": [
    {
     "data": {
      "text/latex": [
       "$\\displaystyle h^{2} \\frac{d^{2}}{d x^{2}} f{\\left(x \\right)} + \\frac{h^{4} \\frac{d^{4}}{d x^{4}} f{\\left(x \\right)}}{12} + O\\left(h^{5}\\right)$"
      ],
      "text/plain": [
       "h**2*Derivative(f(x), (x, 2)) + h**4*Derivative(f(x), (x, 4))/12 + O(h**5)"
      ]
     },
     "execution_count": 14,
     "metadata": {},
     "output_type": "execute_result"
    }
   ],
   "source": [
    "chislitel.simplify()"
   ]
  },
  {
   "cell_type": "code",
   "execution_count": null,
   "id": "df577d59",
   "metadata": {
    "id": "df577d59",
    "outputId": "a38ca051-e05a-443f-bd79-5450b953ef0b"
   },
   "outputs": [
    {
     "data": {
      "text/latex": [
       "$\\displaystyle \\frac{d^{2}}{d x^{2}} f{\\left(x \\right)} + \\frac{h^{2} \\frac{d^{4}}{d x^{4}} f{\\left(x \\right)}}{12} + O\\left(h^{3}\\right)$"
      ],
      "text/plain": [
       "Derivative(f(x), (x, 2)) + h**2*Derivative(f(x), (x, 4))/12 + O(h**3)"
      ]
     },
     "execution_count": 15,
     "metadata": {},
     "output_type": "execute_result"
    }
   ],
   "source": [
    "(chislitel.simplify()/h**2).simplify()"
   ]
  },
  {
   "cell_type": "markdown",
   "id": "5eab1023",
   "metadata": {
    "id": "5eab1023"
   },
   "source": [
    "Итого ошибка метода есть\n",
    "\n",
    "$$\n",
    "\\varepsilon_{\\text{method}} = \\frac{h^2 M_4}{12}\n",
    "$$\n",
    "\n",
    "Т.е. второй порядок аппроксимации\n",
    "\n",
    "Ошибка округления же\n",
    "\n",
    "$$\n",
    "\\varepsilon_{\\text{round}} = \\frac{4 \\Delta f}{h^2}\n",
    "$$\n",
    "\n",
    "Суммарная погрешность тогда\n",
    "\n",
    "$$\n",
    "\\varepsilon = \\frac{h^2 M_4}{12} + \\frac{4 \\Delta f }{h^2}\n",
    "$$\n",
    "\n",
    "Необходимо аналитически найти её минимум. Опять же используем sympy"
   ]
  },
  {
   "cell_type": "code",
   "execution_count": null,
   "id": "152c4390",
   "metadata": {
    "id": "152c4390",
    "outputId": "9466fa1f-8adb-4f9e-d412-19293b54efe6"
   },
   "outputs": [
    {
     "name": "stdout",
     "output_type": "stream",
     "text": [
      "M_4 Δf\n"
     ]
    }
   ],
   "source": [
    "M_4, deltaf = smp.symbols(['M_4', 'Δf'])\n",
    "print(M_4, deltaf)"
   ]
  },
  {
   "cell_type": "code",
   "execution_count": null,
   "id": "09361a1d",
   "metadata": {
    "id": "09361a1d",
    "outputId": "b8c17cd4-9b14-4577-ac8e-befdaaa0bed2"
   },
   "outputs": [
    {
     "data": {
      "text/latex": [
       "$\\displaystyle \\varepsilon$"
      ],
      "text/plain": [
       "varepsilon"
      ]
     },
     "execution_count": 17,
     "metadata": {},
     "output_type": "execute_result"
    }
   ],
   "source": [
    "eps = smp.symbols('varepsilon')\n",
    "eps"
   ]
  },
  {
   "cell_type": "code",
   "execution_count": null,
   "id": "2d3977c6",
   "metadata": {
    "id": "2d3977c6",
    "outputId": "cd6f24f6-67b1-4785-8f51-b962c4f47b66"
   },
   "outputs": [
    {
     "data": {
      "text/latex": [
       "$\\displaystyle \\frac{M_{4} h^{2}}{12} + \\frac{4 Δf}{h^{2}}$"
      ],
      "text/plain": [
       "M_4*h**2/12 + 4*Δf/h**2"
      ]
     },
     "execution_count": 18,
     "metadata": {},
     "output_type": "execute_result"
    }
   ],
   "source": [
    "eps = h**2*M_4/12 + 4*deltaf/h**2\n",
    "eps"
   ]
  },
  {
   "cell_type": "code",
   "execution_count": null,
   "id": "a9fe0f8e",
   "metadata": {
    "id": "a9fe0f8e",
    "outputId": "11d170af-8d8b-409c-8f9e-40d310c7897c"
   },
   "outputs": [
    {
     "data": {
      "text/latex": [
       "$\\displaystyle \\frac{M_{4} h}{6} - \\frac{8 Δf}{h^{3}}$"
      ],
      "text/plain": [
       "M_4*h/6 - 8*Δf/h**3"
      ]
     },
     "execution_count": 19,
     "metadata": {},
     "output_type": "execute_result"
    }
   ],
   "source": [
    "eps_derivative = eps.diff(h)\n",
    "eps_derivative"
   ]
  },
  {
   "cell_type": "code",
   "execution_count": null,
   "id": "ea765a1b",
   "metadata": {
    "id": "ea765a1b",
    "outputId": "6eed9842-28e9-4026-aaf0-45ca76de7182"
   },
   "outputs": [
    {
     "data": {
      "text/plain": [
       "[-2*3**(1/4)*(Δf/M_4)**(1/4),\n",
       " 2*3**(1/4)*(Δf/M_4)**(1/4),\n",
       " -2*3**(1/4)*I*(Δf/M_4)**(1/4),\n",
       " 2*3**(1/4)*I*(Δf/M_4)**(1/4)]"
      ]
     },
     "execution_count": 20,
     "metadata": {},
     "output_type": "execute_result"
    }
   ],
   "source": [
    "smp.solve(eps_derivative, h)"
   ]
  },
  {
   "cell_type": "markdown",
   "id": "2b32b4bc",
   "metadata": {
    "id": "2b32b4bc"
   },
   "source": [
    "Только второе решение положительное действительное"
   ]
  },
  {
   "cell_type": "code",
   "execution_count": null,
   "id": "50323790",
   "metadata": {
    "id": "50323790",
    "outputId": "bb43fe19-58a4-426a-e0b8-6a35a7d7c826"
   },
   "outputs": [
    {
     "data": {
      "text/latex": [
       "$\\displaystyle 2 \\cdot \\sqrt[4]{3} \\sqrt[4]{\\frac{Δf}{M_{4}}}$"
      ],
      "text/plain": [
       "2*3**(1/4)*(Δf/M_4)**(1/4)"
      ]
     },
     "execution_count": 21,
     "metadata": {},
     "output_type": "execute_result"
    }
   ],
   "source": [
    "h_opt = smp.solve(eps_derivative, h)[1]\n",
    "h_opt"
   ]
  },
  {
   "cell_type": "code",
   "execution_count": null,
   "id": "68d63631",
   "metadata": {
    "id": "68d63631",
    "outputId": "0b555a09-978e-451f-dcce-3a07c52994a5"
   },
   "outputs": [
    {
     "data": {
      "text/latex": [
       "$\\displaystyle \\frac{\\sqrt{3} M_{4} \\sqrt{\\frac{Δf}{M_{4}}}}{3} + \\frac{\\sqrt{3} Δf}{3 \\sqrt{\\frac{Δf}{M_{4}}}}$"
      ],
      "text/plain": [
       "sqrt(3)*M_4*sqrt(Δf/M_4)/3 + sqrt(3)*Δf/(3*sqrt(Δf/M_4))"
      ]
     },
     "execution_count": 22,
     "metadata": {},
     "output_type": "execute_result"
    }
   ],
   "source": [
    "eps_min = eps.replace(h, h_opt)\n",
    "eps_min"
   ]
  },
  {
   "cell_type": "code",
   "execution_count": null,
   "id": "409676a9",
   "metadata": {
    "id": "409676a9",
    "outputId": "307db145-8031-4ea4-a0fa-483fdb4f89a8"
   },
   "outputs": [
    {
     "data": {
      "text/latex": [
       "$\\displaystyle \\frac{2 \\sqrt{3} Δf}{3 \\sqrt{\\frac{Δf}{M_{4}}}}$"
      ],
      "text/plain": [
       "2*sqrt(3)*Δf/(3*sqrt(Δf/M_4))"
      ]
     },
     "execution_count": 23,
     "metadata": {},
     "output_type": "execute_result"
    }
   ],
   "source": [
    "eps_min = eps_min.simplify()\n",
    "eps_min"
   ]
  },
  {
   "cell_type": "markdown",
   "id": "faccbaff",
   "metadata": {
    "id": "faccbaff"
   },
   "source": [
    "3. Найдите погрешность метода и неустранимую погрешность при вычислениях по этой формуле. Найдите оптимальный шаг численного дифференцирования и минимально возможную ошибку.\n",
    "\n",
    "$$\n",
    "f^{(3)}(x)=\\frac{f(x+2 h)-2 f(x+h)+2 f(x-h)-f(x-2 h)}{2 h^3}\n",
    "$$"
   ]
  }
 ],
 "metadata": {
  "colab": {
   "provenance": []
  },
  "kernelspec": {
   "display_name": "Python 3 (ipykernel)",
   "language": "python",
   "name": "python3"
  },
  "language_info": {
   "codemirror_mode": {
    "name": "ipython",
    "version": 3
   },
   "file_extension": ".py",
   "mimetype": "text/x-python",
   "name": "python",
   "nbconvert_exporter": "python",
   "pygments_lexer": "ipython3",
   "version": "3.9.7"
  }
 },
 "nbformat": 4,
 "nbformat_minor": 5
}
